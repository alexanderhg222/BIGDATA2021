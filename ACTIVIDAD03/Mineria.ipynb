{
  "nbformat": 4,
  "nbformat_minor": 0,
  "metadata": {
    "colab": {
      "name": "Mineria.ipynb",
      "provenance": [],
      "collapsed_sections": []
    },
    "kernelspec": {
      "name": "python3",
      "display_name": "Python 3"
    },
    "language_info": {
      "name": "python"
    }
  },
  "cells": [
    {
      "cell_type": "markdown",
      "metadata": {
        "id": "2WLPE4uQ96-N"
      },
      "source": [
        "#MODULOS PARA RECONOCIMIENTO DE LA DATA Y LA FRECUENCIAS DE CONBINACIONES"
      ]
    },
    {
      "cell_type": "code",
      "metadata": {
        "id": "Cp6NEYp5QArF"
      },
      "source": [
        "import numpy as np\n"
      ],
      "execution_count": null,
      "outputs": []
    },
    {
      "cell_type": "markdown",
      "metadata": {
        "id": "lZpSKSnM-UVj"
      },
      "source": [
        "Modulo de lectura de archivo y  union en una lista  "
      ]
    },
    {
      "cell_type": "code",
      "metadata": {
        "id": "u_Wv2BpfOH8e"
      },
      "source": [
        "def load_transactions(path_to_data,order):\n",
        "  Transactions=[]\n",
        "  count=0\n",
        "  \n",
        "  with open(path_to_data,'r')as fid:\n",
        "    for lines in fid:\n",
        "      str_line=list(lines.strip().split(','))\n",
        "      hola=lines.strip().split(',')\n",
        "      count=count+1\n",
        "      \n",
        "      print(hola)\n",
        "\n",
        "      _t=list(np.unique(str_line))\n",
        "      _t.sort(key=lambda x: order.index(x))\n",
        "      Transactions.append(_t)\n",
        "      print(Transactions)\n",
        "   \n",
        "  return Transactions\n",
        "  "
      ],
      "execution_count": null,
      "outputs": []
    },
    {
      "cell_type": "markdown",
      "metadata": {
        "id": "rn0EyieU-hNX"
      },
      "source": [
        "Contador si un elemento se encuentra en la lista se acumula "
      ]
    },
    {
      "cell_type": "code",
      "metadata": {
        "id": "0lJASULTPMOI"
      },
      "source": [
        "def count_ocurrences(itemset,Transactions):\n",
        "  count=0\n",
        "  for i in range(len(Transactions)):\n",
        "    if set(itemset).issubset(set(Transactions[i])):\n",
        "      count +=1\n",
        "  return count    \n"
      ],
      "execution_count": null,
      "outputs": []
    },
    {
      "cell_type": "markdown",
      "metadata": {
        "id": "LMbqba6dIOzp"
      },
      "source": [
        "Procesamiento y combinacion de los datos"
      ]
    },
    {
      "cell_type": "code",
      "metadata": {
        "id": "Kh6syoA-YI8x"
      },
      "source": [
        "def join_two_itemsets(it1,it2,order):\n",
        "  it1=sorted(it1,key=lambda x:x[1])\n",
        "  it2=sorted(it2,key=lambda x:x[1])\n",
        "  for i in range(len(it1)-1):\n",
        "    if it1[i]!= it2[i]:\n",
        "      return []\n",
        "  if order.index(it1[-1])< order.index(it2[-1]):\n",
        "    return it1+[it2[-1]]\n",
        "  return []    "
      ],
      "execution_count": null,
      "outputs": []
    },
    {
      "cell_type": "code",
      "metadata": {
        "id": "NkCWTyj4IMlR"
      },
      "source": [
        ""
      ],
      "execution_count": null,
      "outputs": []
    },
    {
      "cell_type": "code",
      "metadata": {
        "id": "NF5Ef3r1XOUf"
      },
      "source": [
        "def join_set_itemsets(set_of_its,order):\n",
        "  C=[]\n",
        "  for i in range(len(set_of_its)):\n",
        "    for j in range(i+1,len(set_of_its)):\n",
        "      it_out=join_two_itemsets(set_of_its[i],set_of_its[j],order)\n",
        "      if len(it_out)>0:\n",
        "        C.append(it_out)\n",
        "  return C      "
      ],
      "execution_count": null,
      "outputs": []
    },
    {
      "cell_type": "markdown",
      "metadata": {
        "id": "HFGYpdRMIU-T"
      },
      "source": [
        "Determina la frecuencia  de la data a mostrar con los terminos:los items,la data , el minimo,discarded"
      ]
    },
    {
      "cell_type": "code",
      "metadata": {
        "id": "ZlReS3mkMYNd"
      },
      "source": [
        "def get_frequent(itemsets,Transactions, min_support,prev_discarded):\n",
        "\n",
        "    L=[]\n",
        "    supp_count=[]\n",
        "    new_discarded=[]\n",
        "\n",
        "    k=len(prev_discarded.keys())\n",
        "\n",
        "    for s in range(len(itemsets)):\n",
        "        discarded_before=False\n",
        "        if k > 0:\n",
        "         for it in prev_discarded[k]:\n",
        "            if set(it).issubset(set(itemsets[s])):\n",
        "                discarded_before=True\n",
        "            break\n",
        "        if not discarded_before:\n",
        "            count=count_ocurrences(itemsets[s],Transactions)\n",
        "            if count/len(Transactions)>=min_support:\n",
        "\n",
        "               L.append(itemsets[s])\n",
        "               supp_count.append(count)     \n",
        "            else:\n",
        "\n",
        "                new_discarded.append(itemsets[s])\n",
        "    return L, supp_count, new_discarded"
      ],
      "execution_count": null,
      "outputs": []
    },
    {
      "cell_type": "code",
      "metadata": {
        "id": "BnF1jrl0sFyD",
        "colab": {
          "base_uri": "https://localhost:8080/"
        },
        "outputId": "0543cd19-8720-4515-a479-fd4a947aa112"
      },
      "source": [
        "!pip install utils"
      ],
      "execution_count": null,
      "outputs": [
        {
          "output_type": "stream",
          "name": "stdout",
          "text": [
            "Collecting utils\n",
            "  Downloading utils-1.0.1-py2.py3-none-any.whl (21 kB)\n",
            "Installing collected packages: utils\n",
            "Successfully installed utils-1.0.1\n"
          ]
        }
      ]
    },
    {
      "cell_type": "code",
      "metadata": {
        "id": "PET2haPPQ46M"
      },
      "source": [
        "import numpy as np\n",
        "from utils import *"
      ],
      "execution_count": null,
      "outputs": []
    },
    {
      "cell_type": "markdown",
      "metadata": {
        "id": "8CFALMwVJ6uy"
      },
      "source": [
        "#VALIDACION DE DATOS O LECTURA DE DATOS"
      ]
    },
    {
      "cell_type": "code",
      "metadata": {
        "id": "pN3KHz1gREYf"
      },
      "source": [
        "path_to_data=\"test.txt\"\n",
        "min_support=2/9\n",
        "min_conf=0.3\n",
        "order=['I' + str(i)for i in range(1,6)]\n"
      ],
      "execution_count": null,
      "outputs": []
    },
    {
      "cell_type": "code",
      "metadata": {
        "colab": {
          "base_uri": "https://localhost:8080/"
        },
        "id": "7ylt27_3jRw0",
        "outputId": "70087402-7db4-40d3-8f4b-6176d634cade"
      },
      "source": [
        "Transactions=load_transactions(path_to_data,order)\n",
        "num_trans=len(Transactions)"
      ],
      "execution_count": null,
      "outputs": [
        {
          "output_type": "stream",
          "name": "stdout",
          "text": [
            "['I1', 'I2', 'I5']\n",
            "[['I1', 'I2', 'I5']]\n",
            "['I2', 'I4']\n",
            "[['I1', 'I2', 'I5'], ['I2', 'I4']]\n",
            "['I2', 'I3']\n",
            "[['I1', 'I2', 'I5'], ['I2', 'I4'], ['I2', 'I3']]\n",
            "['I1', 'I3']\n",
            "[['I1', 'I2', 'I5'], ['I2', 'I4'], ['I2', 'I3'], ['I1', 'I3']]\n",
            "['I2', 'I3']\n",
            "[['I1', 'I2', 'I5'], ['I2', 'I4'], ['I2', 'I3'], ['I1', 'I3'], ['I2', 'I3']]\n",
            "['I1', 'I3']\n",
            "[['I1', 'I2', 'I5'], ['I2', 'I4'], ['I2', 'I3'], ['I1', 'I3'], ['I2', 'I3'], ['I1', 'I3']]\n",
            "['I1', 'I2', 'I3', 'I5']\n",
            "[['I1', 'I2', 'I5'], ['I2', 'I4'], ['I2', 'I3'], ['I1', 'I3'], ['I2', 'I3'], ['I1', 'I3'], ['I1', 'I2', 'I3', 'I5']]\n",
            "['I1', 'I2', 'I3']\n",
            "[['I1', 'I2', 'I5'], ['I2', 'I4'], ['I2', 'I3'], ['I1', 'I3'], ['I2', 'I3'], ['I1', 'I3'], ['I1', 'I2', 'I3', 'I5'], ['I1', 'I2', 'I3']]\n"
          ]
        }
      ]
    },
    {
      "cell_type": "code",
      "metadata": {
        "id": "zIcdJb-xLa8L"
      },
      "source": [
        "C={}\n",
        "L={}\n",
        "itemset_size=1\n",
        "Discarded={itemset_size : []}\n",
        "C.update({itemset_size :[[f] for f in order]})\n"
      ],
      "execution_count": null,
      "outputs": []
    },
    {
      "cell_type": "code",
      "metadata": {
        "colab": {
          "base_uri": "https://localhost:8080/"
        },
        "id": "whoGzBgaMBKY",
        "outputId": "1eb92947-75e9-4947-eae6-4a1dabef8264"
      },
      "source": [
        "C"
      ],
      "execution_count": null,
      "outputs": [
        {
          "output_type": "execute_result",
          "data": {
            "text/plain": [
              "{1: [['I1'], ['I2'], ['I3'], ['I4'], ['I5']]}"
            ]
          },
          "metadata": {},
          "execution_count": 13
        }
      ]
    },
    {
      "cell_type": "code",
      "metadata": {
        "id": "xhrqikT8R86J"
      },
      "source": [
        "def print_table(T,supp_count):\n",
        "  print(\"Itemset | Frecuency\")\n",
        "  for k in range(len(T)):\n",
        "    print(\"{} : {}\".format(T[k], supp_count[k]))\n",
        "  print(\"\\n\\n\")  "
      ],
      "execution_count": null,
      "outputs": []
    },
    {
      "cell_type": "code",
      "metadata": {
        "id": "cFX9BhfTSsE1"
      },
      "source": [
        "supp_count_L={}\n",
        "f,sup,new_discarded=get_frequent(C[itemset_size],Transactions,min_support,Discarded)\n",
        "Discarded.update({itemset_size : new_discarded})\n",
        "L.update({itemset_size : f})\n",
        "supp_count_L.update({itemset_size :sup})"
      ],
      "execution_count": null,
      "outputs": []
    },
    {
      "cell_type": "code",
      "metadata": {
        "colab": {
          "base_uri": "https://localhost:8080/"
        },
        "id": "TOVxdmmpTq_g",
        "outputId": "91f434bb-44bc-4e32-ccfa-b110950b23d6"
      },
      "source": [
        "print(\" FRECCUENCIAS\")\n",
        "print_table(L[1],supp_count_L[1])"
      ],
      "execution_count": null,
      "outputs": [
        {
          "output_type": "stream",
          "name": "stdout",
          "text": [
            " \n",
            "Itemset | Frecuency\n",
            "['I1'] : 5\n",
            "['I2'] : 6\n",
            "['I3'] : 6\n",
            "['I5'] : 2\n",
            "\n",
            "\n",
            "\n"
          ]
        }
      ]
    },
    {
      "cell_type": "code",
      "metadata": {
        "id": "XpCmgqI2sXs0",
        "colab": {
          "base_uri": "https://localhost:8080/"
        },
        "outputId": "120e7135-9d67-4dd3-fcfe-0b8d107fe341"
      },
      "source": [
        "Transactions"
      ],
      "execution_count": null,
      "outputs": [
        {
          "output_type": "execute_result",
          "data": {
            "text/plain": [
              "[['I1', 'I2', 'I5'],\n",
              " ['I2', 'I4'],\n",
              " ['I2', 'I3'],\n",
              " ['I1', 'I3'],\n",
              " ['I2', 'I3'],\n",
              " ['I1', 'I3'],\n",
              " ['I1', 'I2', 'I3', 'I5'],\n",
              " ['I1', 'I2', 'I3']]"
            ]
          },
          "metadata": {},
          "execution_count": 17
        }
      ]
    },
    {
      "cell_type": "code",
      "metadata": {
        "colab": {
          "base_uri": "https://localhost:8080/"
        },
        "id": "lde3frKKWG-l",
        "outputId": "b88c374e-1106-4eb4-8204-5c635374fe73"
      },
      "source": [
        "k=itemset_size+1\n",
        "convergence=False\n",
        "while not convergence :\n",
        "  C.update({k : join_set_itemsets(L[k-1],order)})\n",
        "  print(\"Table C{}: \\n\".format(k))\n",
        "  print_table(C[k],[count_ocurrences(it,Transactions)for it in C[k]])\n",
        "  f,sup,new_discarded=get_frequent(C[k],Transactions,min_support,Discarded)\n",
        "  Discarded.update({k : new_discarded})\n",
        "  L.update({k : f})\n",
        "  supp_count_L.update({k :sup})\n",
        "  if len(L[k])==0:\n",
        "    convergence=True\n",
        "  k+=1\n"
      ],
      "execution_count": null,
      "outputs": [
        {
          "output_type": "stream",
          "name": "stdout",
          "text": [
            "Table C2: \n",
            "\n",
            "Itemset | Frecuency\n",
            "['I1', 'I2'] : 3\n",
            "['I1', 'I3'] : 4\n",
            "['I1', 'I5'] : 2\n",
            "['I2', 'I3'] : 4\n",
            "['I2', 'I5'] : 2\n",
            "['I3', 'I5'] : 1\n",
            "\n",
            "\n",
            "\n",
            "Table C3: \n",
            "\n",
            "Itemset | Frecuency\n",
            "['I1', 'I2', 'I3'] : 2\n",
            "['I1', 'I2', 'I5'] : 2\n",
            "['I1', 'I3', 'I5'] : 1\n",
            "['I2', 'I3', 'I5'] : 1\n",
            "\n",
            "\n",
            "\n",
            "Table C4: \n",
            "\n",
            "Itemset | Frecuency\n",
            "['I1', 'I2', 'I3', 'I5'] : 1\n",
            "\n",
            "\n",
            "\n"
          ]
        }
      ]
    },
    {
      "cell_type": "code",
      "metadata": {
        "colab": {
          "base_uri": "https://localhost:8080/"
        },
        "id": "jkuCG_W3kjyZ",
        "outputId": "d6344295-020c-4c38-9d04-63682a7d2c65"
      },
      "source": [
        "!pip install itertools"
      ],
      "execution_count": null,
      "outputs": [
        {
          "output_type": "stream",
          "name": "stdout",
          "text": [
            "\u001b[31mERROR: Could not find a version that satisfies the requirement itertools (from versions: none)\u001b[0m\n",
            "\u001b[31mERROR: No matching distribution found for itertools\u001b[0m\n"
          ]
        }
      ]
    },
    {
      "cell_type": "code",
      "metadata": {
        "id": "UT7lAHxikoFX"
      },
      "source": [
        "from itertools import combinations, chain \n",
        "\n",
        "def powerset(s):\n",
        "  return  list(chain.from_iterable(combinations(s,r)for r in range(1,len(s)+1)))"
      ],
      "execution_count": null,
      "outputs": []
    },
    {
      "cell_type": "code",
      "metadata": {
        "id": "qsb9LxPnlFyt"
      },
      "source": [
        "def write_rules(X,X_S,S,conf,supp,lift,num_trans):\n",
        "  out_rules=\"\"\n",
        "  out_rules +=\"Freq. Itemset: {}\\n\".format(X)\n",
        "  out_rules +=\"   Rule {} => {} \\n   \".format(list(S),list(X_S))\n",
        "  out_rules +=\"   Conf {0:2.3f}   \".format(conf)\n",
        "  out_rules +=\"   Supp {0:2.3f}   \".format(supp/num_trans)\n",
        "  out_rules +=\"   Lift {0:2.3f}   \".format(lift)\n",
        "  return out_rules\n",
        "  "
      ],
      "execution_count": null,
      "outputs": []
    },
    {
      "cell_type": "code",
      "metadata": {
        "id": "l5gFWea-bZP3"
      },
      "source": [
        "assoc_rules_str=\"\"\n",
        "for  i in range(1, len(L)):\n",
        "  for j  in range(len(L[i])):\n",
        "    s=list(powerset(set(L[i][j])))\n",
        "    s.pop()\n",
        "    for z in s:\n",
        "      S=set(z)\n",
        "      X=set(L[i][j])\n",
        "      X_S=set(X-S)\n",
        "      sup_x=count_ocurrences(X,Transactions)\n",
        "      sup_x_s=count_ocurrences(X_S,Transactions)\n",
        "      conf=sup_x/count_ocurrences(S,Transactions)\n",
        "      lift=conf/(sup_x_s / num_trans)\n",
        "      if conf >= min_conf and sup_x >= min_support:\n",
        "        assoc_rules_str+=write_rules(X,X_S,S,conf,sup_x,lift,num_trans)"
      ],
      "execution_count": null,
      "outputs": []
    },
    {
      "cell_type": "code",
      "metadata": {
        "colab": {
          "base_uri": "https://localhost:8080/"
        },
        "id": "Ow-BVzOloXVq",
        "outputId": "6c486ebf-dd6b-43df-d8c6-a8393b89ad24"
      },
      "source": [
        "print(assoc_rules_str)"
      ],
      "execution_count": null,
      "outputs": [
        {
          "output_type": "stream",
          "name": "stdout",
          "text": [
            "Freq. Itemset: {'I1', 'I2'}\n",
            "   Rule ['I1'] => ['I2'] \n",
            "      Conf 0.600      Supp 0.375      Lift 0.800   Freq. Itemset: {'I1', 'I2'}\n",
            "   Rule ['I2'] => ['I1'] \n",
            "      Conf 0.500      Supp 0.375      Lift 0.800   Freq. Itemset: {'I1', 'I3'}\n",
            "   Rule ['I1'] => ['I3'] \n",
            "      Conf 0.800      Supp 0.500      Lift 1.067   Freq. Itemset: {'I1', 'I3'}\n",
            "   Rule ['I3'] => ['I1'] \n",
            "      Conf 0.667      Supp 0.500      Lift 1.067   Freq. Itemset: {'I5', 'I1'}\n",
            "   Rule ['I5'] => ['I1'] \n",
            "      Conf 1.000      Supp 0.250      Lift 1.600   Freq. Itemset: {'I5', 'I1'}\n",
            "   Rule ['I1'] => ['I5'] \n",
            "      Conf 0.400      Supp 0.250      Lift 1.600   Freq. Itemset: {'I2', 'I3'}\n",
            "   Rule ['I2'] => ['I3'] \n",
            "      Conf 0.667      Supp 0.500      Lift 0.889   Freq. Itemset: {'I2', 'I3'}\n",
            "   Rule ['I3'] => ['I2'] \n",
            "      Conf 0.667      Supp 0.500      Lift 0.889   Freq. Itemset: {'I5', 'I2'}\n",
            "   Rule ['I5'] => ['I2'] \n",
            "      Conf 1.000      Supp 0.250      Lift 1.333   Freq. Itemset: {'I5', 'I2'}\n",
            "   Rule ['I2'] => ['I5'] \n",
            "      Conf 0.333      Supp 0.250      Lift 1.333   Freq. Itemset: {'I1', 'I3', 'I2'}\n",
            "   Rule ['I1'] => ['I2', 'I3'] \n",
            "      Conf 0.400      Supp 0.250      Lift 0.800   Freq. Itemset: {'I1', 'I3', 'I2'}\n",
            "   Rule ['I3'] => ['I1', 'I2'] \n",
            "      Conf 0.333      Supp 0.250      Lift 0.889   Freq. Itemset: {'I1', 'I3', 'I2'}\n",
            "   Rule ['I2'] => ['I1', 'I3'] \n",
            "      Conf 0.333      Supp 0.250      Lift 0.667   Freq. Itemset: {'I1', 'I3', 'I2'}\n",
            "   Rule ['I1', 'I3'] => ['I2'] \n",
            "      Conf 0.500      Supp 0.250      Lift 0.667   Freq. Itemset: {'I1', 'I3', 'I2'}\n",
            "   Rule ['I1', 'I2'] => ['I3'] \n",
            "      Conf 0.667      Supp 0.250      Lift 0.889   Freq. Itemset: {'I1', 'I3', 'I2'}\n",
            "   Rule ['I2', 'I3'] => ['I1'] \n",
            "      Conf 0.500      Supp 0.250      Lift 0.800   Freq. Itemset: {'I5', 'I1', 'I2'}\n",
            "   Rule ['I5'] => ['I1', 'I2'] \n",
            "      Conf 1.000      Supp 0.250      Lift 2.667   Freq. Itemset: {'I5', 'I1', 'I2'}\n",
            "   Rule ['I1'] => ['I5', 'I2'] \n",
            "      Conf 0.400      Supp 0.250      Lift 1.600   Freq. Itemset: {'I5', 'I1', 'I2'}\n",
            "   Rule ['I2'] => ['I5', 'I1'] \n",
            "      Conf 0.333      Supp 0.250      Lift 1.333   Freq. Itemset: {'I5', 'I1', 'I2'}\n",
            "   Rule ['I5', 'I1'] => ['I2'] \n",
            "      Conf 1.000      Supp 0.250      Lift 1.333   Freq. Itemset: {'I5', 'I1', 'I2'}\n",
            "   Rule ['I5', 'I2'] => ['I1'] \n",
            "      Conf 1.000      Supp 0.250      Lift 1.600   Freq. Itemset: {'I5', 'I1', 'I2'}\n",
            "   Rule ['I1', 'I2'] => ['I5'] \n",
            "      Conf 0.667      Supp 0.250      Lift 2.667   \n"
          ]
        }
      ]
    }
  ]
}