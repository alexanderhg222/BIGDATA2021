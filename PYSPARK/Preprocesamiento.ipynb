{
  "nbformat": 4,
  "nbformat_minor": 0,
  "metadata": {
    "colab": {
      "name": "Preprocesamiento.ipynb",
      "provenance": []
    },
    "kernelspec": {
      "name": "python3",
      "display_name": "Python 3"
    },
    "language_info": {
      "name": "python"
    }
  },
  "cells": [
    {
      "cell_type": "markdown",
      "source": [
        "#5 EJERCISIOS PREPROCESAMIENTO\n",
        "\n",
        "NOMBRE:Alexander Javier Huaman Guevara\n",
        "\n",
        "CODIGO:150394"
      ],
      "metadata": {
        "id": "7ONm5gIJ6gwz"
      }
    },
    {
      "cell_type": "code",
      "execution_count": 2,
      "metadata": {
        "colab": {
          "base_uri": "https://localhost:8080/"
        },
        "id": "5N3KrT1YVipA",
        "outputId": "7331d1a5-cdaf-46ed-9bf2-9c4d681c5444"
      },
      "outputs": [
        {
          "output_type": "stream",
          "name": "stdout",
          "text": [
            "Collecting pyspark\n",
            "  Downloading pyspark-3.2.0.tar.gz (281.3 MB)\n",
            "\u001b[K     |████████████████████████████████| 281.3 MB 41 kB/s \n",
            "\u001b[?25hCollecting py4j==0.10.9.2\n",
            "  Downloading py4j-0.10.9.2-py2.py3-none-any.whl (198 kB)\n",
            "\u001b[K     |████████████████████████████████| 198 kB 55.5 MB/s \n",
            "\u001b[?25hBuilding wheels for collected packages: pyspark\n",
            "  Building wheel for pyspark (setup.py) ... \u001b[?25l\u001b[?25hdone\n",
            "  Created wheel for pyspark: filename=pyspark-3.2.0-py2.py3-none-any.whl size=281805912 sha256=3eb0c3290c7e2fdfacdc6d9a203f6983b6890650758e7ef8ddd67517bd006c89\n",
            "  Stored in directory: /root/.cache/pip/wheels/0b/de/d2/9be5d59d7331c6c2a7c1b6d1a4f463ce107332b1ecd4e80718\n",
            "Successfully built pyspark\n",
            "Installing collected packages: py4j, pyspark\n",
            "Successfully installed py4j-0.10.9.2 pyspark-3.2.0\n"
          ]
        }
      ],
      "source": [
        "!pip install pyspark\n"
      ]
    },
    {
      "cell_type": "code",
      "source": [
        "from pyspark import SparkContext, SparkConf\n",
        "conf = SparkConf().setAppName(\"appName\")\n",
        "sc = SparkContext(conf=conf)"
      ],
      "metadata": {
        "id": "5cqDIwNyWXNn"
      },
      "execution_count": 3,
      "outputs": []
    },
    {
      "cell_type": "markdown",
      "source": [
        "BAG OF WORDS"
      ],
      "metadata": {
        "id": "6eT4eF0M7tdb"
      }
    },
    {
      "cell_type": "code",
      "source": [
        "def SimilitudCosenos(x,y):\n",
        "    def punto(x,y):\n",
        "        return x.zip(y).map(lambda x: x[0]*x[1]).reduce(lambda x , y :x+y)    \n",
        "    num=punto(x,y)\n",
        "    den=punto(x,x)*punto(y,y)\n",
        "    return num/den"
      ],
      "metadata": {
        "id": "OkqdWOvS-Zdn"
      },
      "execution_count": 11,
      "outputs": []
    },
    {
      "cell_type": "code",
      "source": [
        "x = sc.parallelize(range(0,50),4)\n",
        "y = sc.parallelize(range(100, 150),4)\n",
        "print(SimilitudCosenos(x,y))"
      ],
      "metadata": {
        "colab": {
          "base_uri": "https://localhost:8080/"
        },
        "id": "z3xIhTZg-v10",
        "outputId": "5e0dc513-4e6a-457f-87d6-40a018b2ce73"
      },
      "execution_count": 13,
      "outputs": [
        {
          "output_type": "stream",
          "name": "stdout",
          "text": [
            "5.1313658596339945e-06\n"
          ]
        }
      ]
    },
    {
      "cell_type": "markdown",
      "source": [
        "2.Escalonamiento"
      ],
      "metadata": {
        "id": "l0icXpaF-2io"
      }
    },
    {
      "cell_type": "code",
      "source": [
        "def escalonamiento(x):\n",
        "    minimo = x.min()\n",
        "    maximo = x.max()\n",
        "    lista= x.map(lambda xi : (xi-minimo)/(maximo-minimo))\n",
        "    return lista "
      ],
      "metadata": {
        "id": "BPKNGAAZ-6Dc"
      },
      "execution_count": 14,
      "outputs": []
    },
    {
      "cell_type": "code",
      "source": [
        "Vec = sc.parallelize(range(12,28),4)\n",
        "VectorEs=escalonamiento(Vec)\n",
        "print(VectorEs.collect())"
      ],
      "metadata": {
        "colab": {
          "base_uri": "https://localhost:8080/"
        },
        "id": "v3X8Uqmo_A-x",
        "outputId": "851c079e-2058-420a-92d8-53d1ea92c4c7"
      },
      "execution_count": 15,
      "outputs": [
        {
          "output_type": "stream",
          "name": "stdout",
          "text": [
            "[0.0, 0.06666666666666667, 0.13333333333333333, 0.2, 0.26666666666666666, 0.3333333333333333, 0.4, 0.4666666666666667, 0.5333333333333333, 0.6, 0.6666666666666666, 0.7333333333333333, 0.8, 0.8666666666666667, 0.9333333333333333, 1.0]\n"
          ]
        }
      ]
    },
    {
      "cell_type": "markdown",
      "source": [
        "3.-Estandarizacion"
      ],
      "metadata": {
        "id": "kPDjexZ__DyU"
      }
    },
    {
      "cell_type": "code",
      "source": [
        "def estandarizacion(x):\n",
        "    media  = x.mean()\n",
        "    std    = x.stdev()\n",
        "    lista= x.map(lambda xi : (xi-media)/std)\n",
        "    return lista "
      ],
      "metadata": {
        "id": "Fe6cLhr7_IBL"
      },
      "execution_count": 16,
      "outputs": []
    },
    {
      "cell_type": "code",
      "source": [
        "Vec = sc.parallelize(range(14,26),4)\n",
        "VectorEs=estandarizacion(Vec)\n",
        "print(VectorEs.collect())"
      ],
      "metadata": {
        "colab": {
          "base_uri": "https://localhost:8080/"
        },
        "id": "6_7yw3Pl_NuA",
        "outputId": "cd3cb3c1-5d27-4f9f-e0fb-fcac2b394c95"
      },
      "execution_count": 17,
      "outputs": [
        {
          "output_type": "stream",
          "name": "stdout",
          "text": [
            "[-1.5932550136313832, -1.3035722838802226, -1.013889554129062, -0.7242068243779014, -0.43452409462674085, -0.14484136487558028, 0.14484136487558028, 0.43452409462674085, 0.7242068243779014, 1.013889554129062, 1.3035722838802226, 1.5932550136313832]\n"
          ]
        }
      ]
    },
    {
      "cell_type": "markdown",
      "source": [
        "4.Normalizacion"
      ],
      "metadata": {
        "id": "SX9StR_g_SnK"
      }
    },
    {
      "cell_type": "code",
      "source": [
        "import math\n",
        "def normalizacion(x):\n",
        "   \n",
        "    listaCuadrada=x.map(lambda xi:xi*xi)\n",
        "    total=listaCuadrada.sum()\n",
        "    val=math.sqrt(total)\n",
        "    lista= x.map(lambda xi :(xi/val))\n",
        "    return lista"
      ],
      "metadata": {
        "id": "nmae4vxI_Rg4"
      },
      "execution_count": 18,
      "outputs": []
    },
    {
      "cell_type": "code",
      "source": [
        "Vec = sc.parallelize(range(21,38),3)\n",
        "VectorEs=normalizacion(Vec)\n",
        "print(VectorEs.collect())"
      ],
      "metadata": {
        "colab": {
          "base_uri": "https://localhost:8080/"
        },
        "id": "MAnO3aDD_Ze9",
        "outputId": "0f10c15a-f2fd-4afa-c510-dbd403548e23"
      },
      "execution_count": 19,
      "outputs": [
        {
          "output_type": "stream",
          "name": "stdout",
          "text": [
            "[0.17317563162282182, 0.18142209027152761, 0.1896685489202334, 0.1979150075689392, 0.206161466217645, 0.2144079248663508, 0.22265438351505662, 0.23090084216376242, 0.2391473008124682, 0.247393759461174, 0.2556402181098798, 0.2638866767585856, 0.2721331354072914, 0.2803795940559972, 0.28862605270470304, 0.2968725113534088, 0.30511897000211463]\n"
          ]
        }
      ]
    },
    {
      "cell_type": "markdown",
      "source": [
        "5.Binario"
      ],
      "metadata": {
        "id": "-gpH9C26_bD_"
      }
    },
    {
      "cell_type": "code",
      "source": [
        "def Binario(Doc):\n",
        "   \n",
        "    val=map(lambda x:(x,1),Doc)\n",
        "    return list(val)"
      ],
      "metadata": {
        "id": "iTPyS-tE_dIN"
      },
      "execution_count": 20,
      "outputs": []
    },
    {
      "cell_type": "code",
      "source": [
        "A=[[\"paolo\",\"paolo\",\"paolo\",\"lapudula\",\"lapudula\",\"pelota\"]\n",
        "    ,[\"pogba\",\"neymar\",\"meta\",\"meta\",\"nbappe\"]\n",
        "    ,[\"paolo\",\"pelota\",\"nbappe\",\"nbappe\"]]\n",
        "t=A[0]\n",
        "print(Binario(t))\n",
        "Vec = sc.parallelize(A,4)\n",
        "Vec2 = Vec.map(lambda x:Binario(x))\n",
        "Vec2.collect()"
      ],
      "metadata": {
        "colab": {
          "base_uri": "https://localhost:8080/"
        },
        "id": "UGHcCrDF_gW9",
        "outputId": "21cf2714-b302-4e07-8263-8fe3f7676068"
      },
      "execution_count": 21,
      "outputs": [
        {
          "output_type": "stream",
          "name": "stdout",
          "text": [
            "[('paolo', 1), ('paolo', 1), ('paolo', 1), ('lapudula', 1), ('lapudula', 1), ('pelota', 1)]\n"
          ]
        },
        {
          "output_type": "execute_result",
          "data": {
            "text/plain": [
              "[[('paolo', 1),\n",
              "  ('paolo', 1),\n",
              "  ('paolo', 1),\n",
              "  ('lapudula', 1),\n",
              "  ('lapudula', 1),\n",
              "  ('pelota', 1)],\n",
              " [('pogba', 1), ('neymar', 1), ('meta', 1), ('meta', 1), ('nbappe', 1)],\n",
              " [('paolo', 1), ('pelota', 1), ('nbappe', 1), ('nbappe', 1)]]"
            ]
          },
          "metadata": {},
          "execution_count": 21
        }
      ]
    }
  ]
}