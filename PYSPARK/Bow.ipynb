{
  "nbformat": 4,
  "nbformat_minor": 0,
  "metadata": {
    "colab": {
      "name": "Bow.ipynb",
      "provenance": []
    },
    "kernelspec": {
      "name": "python3",
      "display_name": "Python 3"
    },
    "language_info": {
      "name": "python"
    }
  },
  "cells": [
    {
      "cell_type": "markdown",
      "source": [
        "#BAG OF WORDS\n",
        "\n",
        "NOMBRE:Alexander Javier Huaman Guevara\n",
        "\n",
        "CODIGO:150394"
      ],
      "metadata": {
        "id": "7ONm5gIJ6gwz"
      }
    },
    {
      "cell_type": "code",
      "execution_count": 1,
      "metadata": {
        "colab": {
          "base_uri": "https://localhost:8080/"
        },
        "id": "5N3KrT1YVipA",
        "outputId": "e524743c-ca00-45d3-da81-6b2ee1b3b997"
      },
      "outputs": [
        {
          "output_type": "stream",
          "name": "stdout",
          "text": [
            "Collecting pyspark\n",
            "  Downloading pyspark-3.2.0.tar.gz (281.3 MB)\n",
            "\u001b[K     |████████████████████████████████| 281.3 MB 32 kB/s \n",
            "\u001b[?25hCollecting py4j==0.10.9.2\n",
            "  Downloading py4j-0.10.9.2-py2.py3-none-any.whl (198 kB)\n",
            "\u001b[K     |████████████████████████████████| 198 kB 45.4 MB/s \n",
            "\u001b[?25hBuilding wheels for collected packages: pyspark\n",
            "  Building wheel for pyspark (setup.py) ... \u001b[?25l\u001b[?25hdone\n",
            "  Created wheel for pyspark: filename=pyspark-3.2.0-py2.py3-none-any.whl size=281805912 sha256=310ba736fa227af6ada73733d009a5177314e229fee406da67b1f41b2598e298\n",
            "  Stored in directory: /root/.cache/pip/wheels/0b/de/d2/9be5d59d7331c6c2a7c1b6d1a4f463ce107332b1ecd4e80718\n",
            "Successfully built pyspark\n",
            "Installing collected packages: py4j, pyspark\n",
            "Successfully installed py4j-0.10.9.2 pyspark-3.2.0\n"
          ]
        }
      ],
      "source": [
        "!pip install pyspark\n"
      ]
    },
    {
      "cell_type": "markdown",
      "source": [
        "BAG OF WORDS"
      ],
      "metadata": {
        "id": "6eT4eF0M7tdb"
      }
    },
    {
      "cell_type": "code",
      "source": [
        "from pyspark import SparkContext, SparkConf\n",
        "conf = SparkConf().setAppName(\"appName\")\n",
        "sc = SparkContext(conf=conf)"
      ],
      "metadata": {
        "id": "5cqDIwNyWXNn"
      },
      "execution_count": 2,
      "outputs": []
    },
    {
      "cell_type": "code",
      "source": [
        "def bow(text):\n",
        "    x=text.strip().lower().split()\n",
        "    return list(filter(lambda x:len(x)>2,x))"
      ],
      "metadata": {
        "id": "yDtP_R8J6hAu"
      },
      "execution_count": 3,
      "outputs": []
    },
    {
      "cell_type": "code",
      "execution_count": 4,
      "metadata": {
        "colab": {
          "base_uri": "https://localhost:8080/"
        },
        "id": "t1BX8ifb6fxt",
        "outputId": "6d9367b2-e92c-4f8f-af8c-6071f18ff035"
      },
      "outputs": [
        {
          "output_type": "execute_result",
          "data": {
            "text/plain": [
              "[['this', 'documenta', 'book', 'mary'],\n",
              " ['newspaper', 'article', 'that', 'wrote', 'week', 'ago']]"
            ]
          },
          "metadata": {},
          "execution_count": 4
        }
      ],
      "source": [
        "Corpus=[\"This is a document\"\n",
        "\"A book by Mary\",\n",
        "        \"Newspaper article that  I wrote a week ago\"]\n",
        "Texto=sc.parallelize(Corpus,6)\n",
        "Texto=Texto.map(bow)\n",
        "Texto.take(2)"
      ]
    },
    {
      "cell_type": "markdown",
      "source": [
        "TF"
      ],
      "metadata": {
        "id": "1nhTnXHu7yKZ"
      }
    },
    {
      "cell_type": "code",
      "source": [
        "import math\n",
        "def tf(text):\n",
        "    total=len(text)\n",
        "    DocS=list(set(text))\n",
        "    maping=list(map(lambda x:(x,text.count(x)),DocS))\n",
        "    tf=list(map(lambda x:(x[0],1+math.log10(x[1]/total)),maping))\n",
        "    return (tf)"
      ],
      "metadata": {
        "id": "kuLhTYsS7xFK"
      },
      "execution_count": 7,
      "outputs": []
    },
    {
      "cell_type": "code",
      "source": [
        "Corpus=[\"This is a document\"\n",
        "\"A book by Mary\",\n",
        "        \"Newspaper article that  I wrote a week ago\"]\n",
        "Texto=sc.parallelize(Corpus,4)\n",
        "Texto=Texto.map(bow)\n",
        "TextoTF=Texto.map(tf)\n",
        "TextoTF.take(2)"
      ],
      "metadata": {
        "colab": {
          "base_uri": "https://localhost:8080/"
        },
        "id": "BTH5o42w8H-5",
        "outputId": "48112730-9503-42ff-b7d5-3bf2f3397256"
      },
      "execution_count": 8,
      "outputs": [
        {
          "output_type": "execute_result",
          "data": {
            "text/plain": [
              "[[('book', 0.3979400086720376),\n",
              "  ('this', 0.3979400086720376),\n",
              "  ('documenta', 0.3979400086720376),\n",
              "  ('mary', 0.3979400086720376)],\n",
              " [('article', 0.22184874961635637),\n",
              "  ('newspaper', 0.22184874961635637),\n",
              "  ('that', 0.22184874961635637),\n",
              "  ('wrote', 0.22184874961635637),\n",
              "  ('week', 0.22184874961635637),\n",
              "  ('ago', 0.22184874961635637)]]"
            ]
          },
          "metadata": {},
          "execution_count": 8
        }
      ]
    },
    {
      "cell_type": "markdown",
      "source": [
        "IDF"
      ],
      "metadata": {
        "id": "shgS8eay8VbL"
      }
    },
    {
      "cell_type": "code",
      "source": [
        "import math\n",
        "def idf(text,corpus):\n",
        "    DocP=text.flatMap(lambda x:x)\n",
        "    DocP=DocP.map(lambda x:x[0]).distinct()   \n",
        "    total=corpus.count()\n",
        "    corpus2=corpus.collect()\n",
        "    idf=DocP.map(lambda x:list(map(lambda y:(x,1 if x in y else 0),corpus2)))\n",
        "    idf2=idf.flatMap(lambda x:x)\n",
        "    idf2=idf2.groupByKey().map(lambda x:(x[0],sum(x[1])))\n",
        "    idf2=idf2.map(lambda x:(x[0],math.log10(1+total/x[1])))\n",
        "    return idf2"
      ],
      "metadata": {
        "id": "xCu8Qts78VBQ"
      },
      "execution_count": 10,
      "outputs": []
    },
    {
      "cell_type": "code",
      "source": [
        "Corpus=[\"This is a document\"\n",
        "\"A book by Mary\",\n",
        "        \"Newspaper article that  I wrote a week ago\"]\n",
        "Texto=sc.parallelize(Corpus,4)\n",
        "Texto=Texto.map(bow)\n",
        "Textotf=Texto.map(TF)\n",
        "Textoidf=idf(Textotf,Texto)\n",
        "Textoidf.collect()"
      ],
      "metadata": {
        "colab": {
          "base_uri": "https://localhost:8080/"
        },
        "id": "UxwRDY4W8xz1",
        "outputId": "89bbe7b8-1654-4301-e228-14dcf5c7888e"
      },
      "execution_count": 11,
      "outputs": [
        {
          "output_type": "execute_result",
          "data": {
            "text/plain": [
              "[('book', 0.47712125471966244),\n",
              " ('documenta', 0.47712125471966244),\n",
              " ('mary', 0.47712125471966244),\n",
              " ('article', 0.47712125471966244),\n",
              " ('that', 0.47712125471966244),\n",
              " ('this', 0.47712125471966244),\n",
              " ('newspaper', 0.47712125471966244),\n",
              " ('week', 0.47712125471966244),\n",
              " ('ago', 0.47712125471966244),\n",
              " ('wrote', 0.47712125471966244)]"
            ]
          },
          "metadata": {},
          "execution_count": 11
        }
      ]
    },
    {
      "cell_type": "markdown",
      "source": [
        "TFIDF"
      ],
      "metadata": {
        "id": "vJ-0EXim9JrO"
      }
    },
    {
      "cell_type": "code",
      "source": [
        "import math\n",
        "def RecIDF(word,corpusIDF):\n",
        "        L=corpusIDF\n",
        "        EL=list(filter(lambda x:x[0]==word,L))\n",
        "        return EL[0][1]\n",
        "\n",
        "\n",
        "def TFIDF(TextoTF,TextoIDF):\n",
        "    \"\"\"Funcion que calcula el IDF para cada Doc de TF\n",
        "    Args:\n",
        "        Doc [[(str,double)]]: texto TF\n",
        "        Doc [(str,double)]:texto IDF\n",
        "\n",
        "    Returns:\n",
        "        [(str,double)]: texto con el TFIDF de cada palabra en DOC\"\"\"\n",
        "    corpusIDF=TextoIDF.collect()\n",
        "    TFIDF=TextoTF.map(lambda x:list(map((lambda y:(y[0],y[1]*RecIDF(y[0],corpusIDF))),x)))\n",
        "    return  TFIDF\n"
      ],
      "metadata": {
        "id": "4nP-GxwG9NL-"
      },
      "execution_count": 12,
      "outputs": []
    },
    {
      "cell_type": "code",
      "source": [
        "Corpus=[\"This is a document\"\n",
        "\"A book by Mary\",\n",
        "        \"Newspaper article that  I wrote a week ago\"]\n",
        "Texto=sc.parallelize(Corpus,4)\n",
        "Texto=Texto.map(bow)\n",
        "TextoTF=Texto.map(TF)\n",
        "TextoIDF=idf(TextoTF,Texto)\n",
        "TextoTFIDF=TFIDF(TextoTF,TextoIDF)\n",
        "TextoTFIDF.collect()"
      ],
      "metadata": {
        "colab": {
          "base_uri": "https://localhost:8080/"
        },
        "id": "RQqbWcz49b-G",
        "outputId": "e18f6b3a-e14e-490f-8f71-6da40be59249"
      },
      "execution_count": 13,
      "outputs": [
        {
          "output_type": "execute_result",
          "data": {
            "text/plain": [
              "[[('book', 0.18986563624075592),\n",
              "  ('this', 0.18986563624075592),\n",
              "  ('documenta', 0.18986563624075592),\n",
              "  ('mary', 0.18986563624075592)],\n",
              " [('article', 0.10584875377494418),\n",
              "  ('newspaper', 0.10584875377494418),\n",
              "  ('that', 0.10584875377494418),\n",
              "  ('wrote', 0.10584875377494418),\n",
              "  ('week', 0.10584875377494418),\n",
              "  ('ago', 0.10584875377494418)]]"
            ]
          },
          "metadata": {},
          "execution_count": 13
        }
      ]
    },
    {
      "cell_type": "markdown",
      "source": [
        "nGrams"
      ],
      "metadata": {
        "id": "8zxArEAd9rhs"
      }
    },
    {
      "cell_type": "code",
      "source": [
        "def taken(n,tokens):\n",
        " \n",
        "    if len(tokens)>=n:\n",
        "        tokens=list(map(lambda x:str(x),tokens))\n",
        "        val=((\" \").join(tokens[0:n]))\n",
        "    else:\n",
        "        val=\"\"\n",
        "    return val\n",
        "def tails(tokens):\n",
        "    tailsss=[tokens]\n",
        "    for i in range(len(tokens)-1):\n",
        "        tailsss.append(tailsss[-1][1:])\n",
        "    return tailsss\n",
        "def nGrams(n,tokens):\n",
        "    tokens=tokens.split()\n",
        "    tokens=tails(tokens)\n",
        "    Tok=list(map(lambda x:taken(n,x),tokens))\n",
        "    #elimino los vacios\n",
        "    Tok=list(filter(lambda x:len(x)>0,Tok))\n",
        "    return Tok"
      ],
      "metadata": {
        "id": "h-2a59Sc9ms8"
      },
      "execution_count": 14,
      "outputs": []
    },
    {
      "cell_type": "code",
      "source": [
        "Corpus=[\"This is a document\"\n",
        "\"A book by Mary\",\n",
        "        \"Newspaper article that  I wrote a week ago\"]\n",
        "Corpus=sc.parallelize(Corpus,4)\n",
        "\n",
        "Bigrama=Corpus.map(lambda x:nGrams(2,x))\n",
        "print('Bigrama',Bigrama.take(5))\n",
        "print()\n",
        "\n",
        "Trigramas=Corpus.map(lambda x:nGrams(3,x))\n",
        "print(\"Trigramas\",Trigramas.take(5))\n",
        "print()\n",
        "\n",
        "Tetragramas=Corpus.map(lambda x:nGrams(4,x))\n",
        "print(\"Tetragramas\",Tetragramas.take(5))\n",
        "print()"
      ],
      "metadata": {
        "colab": {
          "base_uri": "https://localhost:8080/"
        },
        "id": "a72Px44p92SM",
        "outputId": "970954b6-f75d-49b6-a91b-6d6b6361a96e"
      },
      "execution_count": 15,
      "outputs": [
        {
          "output_type": "stream",
          "name": "stdout",
          "text": [
            "Bigrama [['This is', 'is a', 'a documentA', 'documentA book', 'book by', 'by Mary'], ['Newspaper article', 'article that', 'that I', 'I wrote', 'wrote a', 'a week', 'week ago']]\n",
            "\n",
            "Trigramas [['This is a', 'is a documentA', 'a documentA book', 'documentA book by', 'book by Mary'], ['Newspaper article that', 'article that I', 'that I wrote', 'I wrote a', 'wrote a week', 'a week ago']]\n",
            "\n",
            "Tetragramas [['This is a documentA', 'is a documentA book', 'a documentA book by', 'documentA book by Mary'], ['Newspaper article that I', 'article that I wrote', 'that I wrote a', 'I wrote a week', 'wrote a week ago']]\n",
            "\n"
          ]
        }
      ]
    }
  ]
}